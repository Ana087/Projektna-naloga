{
 "cells": [
  {
   "cell_type": "code",
   "execution_count": 1,
   "metadata": {},
   "outputs": [],
   "source": [
    "import pandas as pd\n",
    "\n",
    "pd.options.display.max_rows = 10\n",
    "\n",
    "restavracije = pd.read_csv('restavracije/restavracije.csv')\n",
    "\n",
    "tipi = pd.read_csv('restavracije/tipi.csv')\n",
    "\n",
    "%matplotlib inline\n"
   ]
  },
  {
   "cell_type": "markdown",
   "metadata": {},
   "source": [
    "# Projektna naloga iz Programiranja 1\n",
    "## Analiza ljubljanskih restavracij\n",
    "\n"
   ]
  },
  {
   "cell_type": "code",
   "execution_count": 2,
   "metadata": {
    "scrolled": true
   },
   "outputs": [
    {
     "data": {
      "text/html": [
       "<div>\n",
       "<style scoped>\n",
       "    .dataframe tbody tr th:only-of-type {\n",
       "        vertical-align: middle;\n",
       "    }\n",
       "\n",
       "    .dataframe tbody tr th {\n",
       "        vertical-align: top;\n",
       "    }\n",
       "\n",
       "    .dataframe thead th {\n",
       "        text-align: right;\n",
       "    }\n",
       "</style>\n",
       "<table border=\"1\" class=\"dataframe\">\n",
       "  <thead>\n",
       "    <tr style=\"text-align: right;\">\n",
       "      <th></th>\n",
       "      <th>ime</th>\n",
       "      <th>rating</th>\n",
       "      <th>glasovi</th>\n",
       "      <th>cena</th>\n",
       "    </tr>\n",
       "  </thead>\n",
       "  <tbody>\n",
       "    <tr>\n",
       "      <td>0</td>\n",
       "      <td>Taman Organic</td>\n",
       "      <td>4.5</td>\n",
       "      <td>86</td>\n",
       "      <td>$$ - $$$</td>\n",
       "    </tr>\n",
       "    <tr>\n",
       "      <td>1</td>\n",
       "      <td>Monstera bistro</td>\n",
       "      <td>4.5</td>\n",
       "      <td>646</td>\n",
       "      <td>$$ - $$$</td>\n",
       "    </tr>\n",
       "    <tr>\n",
       "      <td>2</td>\n",
       "      <td>Capriccio Ristopizza</td>\n",
       "      <td>4.5</td>\n",
       "      <td>266</td>\n",
       "      <td>$$ - $$$</td>\n",
       "    </tr>\n",
       "    <tr>\n",
       "      <td>3</td>\n",
       "      <td>Restavracija Strelec</td>\n",
       "      <td>4.5</td>\n",
       "      <td>724</td>\n",
       "      <td>$$$$</td>\n",
       "    </tr>\n",
       "    <tr>\n",
       "      <td>4</td>\n",
       "      <td>Restaurant Compa</td>\n",
       "      <td>4.5</td>\n",
       "      <td>487</td>\n",
       "      <td>$$ - $$$</td>\n",
       "    </tr>\n",
       "    <tr>\n",
       "      <td>...</td>\n",
       "      <td>...</td>\n",
       "      <td>...</td>\n",
       "      <td>...</td>\n",
       "      <td>...</td>\n",
       "    </tr>\n",
       "    <tr>\n",
       "      <td>576</td>\n",
       "      <td>Acapulco lounge bar</td>\n",
       "      <td>-1.0</td>\n",
       "      <td>0</td>\n",
       "      <td>$</td>\n",
       "    </tr>\n",
       "    <tr>\n",
       "      <td>577</td>\n",
       "      <td>Ginger bar</td>\n",
       "      <td>-1.0</td>\n",
       "      <td>0</td>\n",
       "      <td>NaN</td>\n",
       "    </tr>\n",
       "    <tr>\n",
       "      <td>578</td>\n",
       "      <td>Yortie</td>\n",
       "      <td>-1.0</td>\n",
       "      <td>0</td>\n",
       "      <td>$</td>\n",
       "    </tr>\n",
       "    <tr>\n",
       "      <td>579</td>\n",
       "      <td>Kulinaric Hisa Somrak</td>\n",
       "      <td>-1.0</td>\n",
       "      <td>0</td>\n",
       "      <td>NaN</td>\n",
       "    </tr>\n",
       "    <tr>\n",
       "      <td>580</td>\n",
       "      <td>Roma</td>\n",
       "      <td>-1.0</td>\n",
       "      <td>0</td>\n",
       "      <td>$$ - $$$</td>\n",
       "    </tr>\n",
       "  </tbody>\n",
       "</table>\n",
       "<p>581 rows × 4 columns</p>\n",
       "</div>"
      ],
      "text/plain": [
       "                       ime  rating  glasovi     cena \n",
       "0            Taman Organic     4.5       86  $$ - $$$\n",
       "1          Monstera bistro     4.5      646  $$ - $$$\n",
       "2     Capriccio Ristopizza     4.5      266  $$ - $$$\n",
       "3     Restavracija Strelec     4.5      724      $$$$\n",
       "4         Restaurant Compa     4.5      487  $$ - $$$\n",
       "..                     ...     ...      ...       ...\n",
       "576    Acapulco lounge bar    -1.0        0         $\n",
       "577             Ginger bar    -1.0        0       NaN\n",
       "578                 Yortie    -1.0        0         $\n",
       "579  Kulinaric Hisa Somrak    -1.0        0       NaN\n",
       "580                   Roma    -1.0        0  $$ - $$$\n",
       "\n",
       "[581 rows x 4 columns]"
      ]
     },
     "execution_count": 2,
     "metadata": {},
     "output_type": "execute_result"
    }
   ],
   "source": [
    "restavracije"
   ]
  },
  {
   "cell_type": "code",
   "execution_count": 3,
   "metadata": {},
   "outputs": [
    {
     "data": {
      "text/html": [
       "<div>\n",
       "<style scoped>\n",
       "    .dataframe tbody tr th:only-of-type {\n",
       "        vertical-align: middle;\n",
       "    }\n",
       "\n",
       "    .dataframe tbody tr th {\n",
       "        vertical-align: top;\n",
       "    }\n",
       "\n",
       "    .dataframe thead th {\n",
       "        text-align: right;\n",
       "    }\n",
       "</style>\n",
       "<table border=\"1\" class=\"dataframe\">\n",
       "  <thead>\n",
       "    <tr style=\"text-align: right;\">\n",
       "      <th></th>\n",
       "      <th>ime</th>\n",
       "      <th>tip</th>\n",
       "    </tr>\n",
       "  </thead>\n",
       "  <tbody>\n",
       "    <tr>\n",
       "      <td>0</td>\n",
       "      <td>Taman Organic</td>\n",
       "      <td>\"Healthy\"</td>\n",
       "    </tr>\n",
       "    <tr>\n",
       "      <td>1</td>\n",
       "      <td>Taman Organic</td>\n",
       "      <td>\"International\"</td>\n",
       "    </tr>\n",
       "    <tr>\n",
       "      <td>2</td>\n",
       "      <td>Monstera bistro</td>\n",
       "      <td>\"European\"</td>\n",
       "    </tr>\n",
       "    <tr>\n",
       "      <td>3</td>\n",
       "      <td>Monstera bistro</td>\n",
       "      <td>\"Contemporary\"</td>\n",
       "    </tr>\n",
       "    <tr>\n",
       "      <td>4</td>\n",
       "      <td>Capriccio Ristopizza</td>\n",
       "      <td>\"Italian\"</td>\n",
       "    </tr>\n",
       "    <tr>\n",
       "      <td>...</td>\n",
       "      <td>...</td>\n",
       "      <td>...</td>\n",
       "    </tr>\n",
       "    <tr>\n",
       "      <td>997</td>\n",
       "      <td>Ginger bar</td>\n",
       "      <td>\"Cafe\"</td>\n",
       "    </tr>\n",
       "    <tr>\n",
       "      <td>998</td>\n",
       "      <td>Yortie</td>\n",
       "      <td>\"Deli\"</td>\n",
       "    </tr>\n",
       "    <tr>\n",
       "      <td>999</td>\n",
       "      <td>Kulinaric Hisa Somrak</td>\n",
       "      <td>\"European\"</td>\n",
       "    </tr>\n",
       "    <tr>\n",
       "      <td>1000</td>\n",
       "      <td>Roma</td>\n",
       "      <td>\"Italian\"</td>\n",
       "    </tr>\n",
       "    <tr>\n",
       "      <td>1001</td>\n",
       "      <td>Roma</td>\n",
       "      <td>\"Pizza\"</td>\n",
       "    </tr>\n",
       "  </tbody>\n",
       "</table>\n",
       "<p>1002 rows × 2 columns</p>\n",
       "</div>"
      ],
      "text/plain": [
       "                        ime              tip\n",
       "0             Taman Organic        \"Healthy\"\n",
       "1             Taman Organic  \"International\"\n",
       "2           Monstera bistro       \"European\"\n",
       "3           Monstera bistro   \"Contemporary\"\n",
       "4      Capriccio Ristopizza        \"Italian\"\n",
       "...                     ...              ...\n",
       "997              Ginger bar           \"Cafe\"\n",
       "998                  Yortie           \"Deli\"\n",
       "999   Kulinaric Hisa Somrak       \"European\"\n",
       "1000                   Roma        \"Italian\"\n",
       "1001                   Roma          \"Pizza\"\n",
       "\n",
       "[1002 rows x 2 columns]"
      ]
     },
     "execution_count": 3,
     "metadata": {},
     "output_type": "execute_result"
    }
   ],
   "source": [
    "tipi"
   ]
  },
  {
   "cell_type": "markdown",
   "metadata": {},
   "source": [
    "### Vprašanje 1a : Kateri tip hrane se najpogosteje pojavlja pri najbolje ocenjenih restavracijah?"
   ]
  },
  {
   "cell_type": "code",
   "execution_count": 4,
   "metadata": {},
   "outputs": [
    {
     "data": {
      "text/plain": [
       "tip\n",
       "\"African\"           1\n",
       "\"Soups\"             1\n",
       "\"Lebanese\"          1\n",
       "\"Fusion\"            1\n",
       "\"Chinese\"           1\n",
       "                   ..\n",
       "\"International\"    17\n",
       "\"Slovenian\"        17\n",
       "\"Healthy\"          17\n",
       "\"Mediterranean\"    18\n",
       "\"European\"         28\n",
       "Length: 31, dtype: int64"
      ]
     },
     "execution_count": 4,
     "metadata": {},
     "output_type": "execute_result"
    }
   ],
   "source": [
    "najbolje_ocenjene = restavracije[(restavracije.rating >= 4.5) & (restavracije.glasovi >= 50)]\n",
    "# najbolje ocenjene restavracije, ki imajo povprečno oceno nad 4.5 ter nad 50 glasov\n",
    "\n",
    "imena = najbolje_ocenjene[[\"ime\"]] \n",
    "# imena najbolje_ocenjenih\n",
    "\n",
    "tabela_najboljših = pd.merge(imena, tipi)\n",
    "# tabela tipov najbolje ocenjenih, združi imena najbolje ocenjenih z njihovimi tipi\n",
    "\n",
    "končna_verzija = tabela_najboljših.groupby(\"tip\")\n",
    "# grupiramo po tipih\n",
    "\n",
    "končna_verzija.size().sort_values()\n",
    "# preštejemo tipe in število razvrstimo po velikosti"
   ]
  },
  {
   "cell_type": "code",
   "execution_count": 5,
   "metadata": {},
   "outputs": [
    {
     "data": {
      "text/plain": [
       "<matplotlib.axes._subplots.AxesSubplot at 0x1e883cdce48>"
      ]
     },
     "execution_count": 5,
     "metadata": {},
     "output_type": "execute_result"
    },
    {
     "data": {
      "image/png": "[encoded data removed]",
      "text/plain": [
       "<Figure size 432x288 with 1 Axes>"
      ]
     },
     "metadata": {
      "needs_background": "light"
     },
     "output_type": "display_data"
    }
   ],
   "source": [
    "končna_verzija.size().sort_values().plot.bar()\n",
    "# graf prikazuje kateri tip hrane se največkrat pojavi pri najbolje ocenjenih restavracijah"
   ]
  },
  {
   "cell_type": "markdown",
   "metadata": {},
   "source": [
    "#### ODGOVOR : European, Mediterranean, Healthy."
   ]
  },
  {
   "cell_type": "markdown",
   "metadata": {},
   "source": [
    "### Vprašanje 1b : Kateri tip hrane se najpogosteje pojavlja pri najslabše ocenjenih restavracijah?"
   ]
  },
  {
   "cell_type": "code",
   "execution_count": 6,
   "metadata": {},
   "outputs": [
    {
     "data": {
      "text/plain": [
       "tip\n",
       "\"Asian\"        1\n",
       "\"Bar\"          1\n",
       "\"Cafe\"         1\n",
       "\"Chinese\"      1\n",
       "\"Croatian\"     1\n",
       "              ..\n",
       "\"Tunisian\"     1\n",
       "\"European\"     3\n",
       "\"Italian\"      3\n",
       "\"Slovenian\"    3\n",
       "\"Pizza\"        5\n",
       "Length: 15, dtype: int64"
      ]
     },
     "execution_count": 6,
     "metadata": {},
     "output_type": "execute_result"
    }
   ],
   "source": [
    "najslabše_ocenjene = restavracije[(restavracije.rating < 3.0) & (restavracije.rating > 0) & (restavracije.glasovi >= 1)]\n",
    "# najbolje ocenjene restavracije, ki imajo povprečno oceno pod 3.0 ter imajo vsaj en glas\n",
    "\n",
    "imena2 = najslabše_ocenjene[[\"ime\"]] \n",
    "# imena najslabše ocenjenih\n",
    "\n",
    "tabela_najslabših = pd.merge(imena2, tipi)\n",
    "# tabela tipov najslabše ocenjenih, združi imena najslabše ocenjenih z njihovimi tipi\n",
    "\n",
    "končna_verzija2 = tabela_najslabših.groupby(\"tip\")\n",
    "# grupiramo po tipih\n",
    "\n",
    "končna_verzija2.size().sort_values()\n",
    "# preštejemo tipe in število razvrstimo po velikosti"
   ]
  },
  {
   "cell_type": "code",
   "execution_count": 7,
   "metadata": {},
   "outputs": [
    {
     "data": {
      "text/plain": [
       "<matplotlib.axes._subplots.AxesSubplot at 0x1e896b43eb8>"
      ]
     },
     "execution_count": 7,
     "metadata": {},
     "output_type": "execute_result"
    },
    {
     "data": {
      "image/png": "[encoded data removed]",
      "text/plain": [
       "<Figure size 432x288 with 1 Axes>"
      ]
     },
     "metadata": {
      "needs_background": "light"
     },
     "output_type": "display_data"
    }
   ],
   "source": [
    "končna_verzija2.size().sort_values().plot.bar()\n",
    "# graf prikazuje kateri tip hrane se največkrat pojavi pri najslabše ocenjenih restavracijah"
   ]
  },
  {
   "cell_type": "markdown",
   "metadata": {},
   "source": [
    "#### ODGOVOR : Pizza, Slovenian, Italian."
   ]
  },
  {
   "cell_type": "markdown",
   "metadata": {},
   "source": [
    "### Vprašanje 2 : Kakšna je povezava med številom glasov in oceno restavracije?"
   ]
  },
  {
   "cell_type": "code",
   "execution_count": 8,
   "metadata": {},
   "outputs": [
    {
     "data": {
      "text/plain": [
       "rating\n",
       "1.0      1.500000\n",
       "2.0     16.250000\n",
       "2.5     18.500000\n",
       "3.0     18.380952\n",
       "3.5    109.875000\n",
       "4.0    110.404372\n",
       "4.5    195.875000\n",
       "5.0     11.125000\n",
       "Name: glasovi, dtype: float64"
      ]
     },
     "execution_count": 8,
     "metadata": {},
     "output_type": "execute_result"
    }
   ],
   "source": [
    "primerjalna_tabela = restavracije[[\"rating\", \"glasovi\"]]\n",
    "# tabela z oceno in številom glasov\n",
    "\n",
    "primerjalna_pozitivna = primerjalna_tabela[(primerjalna_tabela.rating > 0) & (primerjalna_tabela.glasovi > 0)]\n",
    "# tabela brez neocenjenih restavracij\n",
    "\n",
    "primerjalna_pozitivna.sort_values(['rating', 'glasovi'], ascending=[False, False])\n",
    "# uredimo padajoče po oceni in številu glasov\n",
    "\n",
    "grupirana = primerjalna_pozitivna.groupby(\"rating\")\n",
    "# grupiramo po oceni\n",
    "\n",
    "grupirana.glasovi.mean()\n",
    "# povrpečno število glasov glede na posamezno oceno"
   ]
  },
  {
   "cell_type": "code",
   "execution_count": 9,
   "metadata": {},
   "outputs": [
    {
     "data": {
      "text/plain": [
       "<matplotlib.axes._subplots.AxesSubplot at 0x1e896b22860>"
      ]
     },
     "execution_count": 9,
     "metadata": {},
     "output_type": "execute_result"
    },
    {
     "data": {
      "image/png": "[encoded data removed]",
      "text/plain": [
       "<Figure size 432x288 with 1 Axes>"
      ]
     },
     "metadata": {
      "needs_background": "light"
     },
     "output_type": "display_data"
    }
   ],
   "source": [
    "primerjalna_pozitivna.plot.scatter('rating', 'glasovi')\n",
    "# razsevni diagram prikazuje povezavo med devma spremenljivkama"
   ]
  },
  {
   "cell_type": "markdown",
   "metadata": {},
   "source": [
    "#### ODGOVOR : Največ ljudi bo restavracijo ocenilo z oceno 4.5, najmanj pa z oceno 1.0."
   ]
  },
  {
   "cell_type": "markdown",
   "metadata": {},
   "source": [
    "### Vprašanje 3 : Kateri tipi restavracij dobivajo največ glasov?"
   ]
  },
  {
   "cell_type": "code",
   "execution_count": 19,
   "metadata": {},
   "outputs": [
    {
     "data": {
      "text/plain": [
       "tip\n",
       "\"British\"             1\n",
       "\"Tunisian\"            1\n",
       "\"Hawaiian\"            1\n",
       "\"South American\"      1\n",
       "\"Persian\"             1\n",
       "                   ... \n",
       "\"Mediterranean\"      62\n",
       "\"Pizza\"              79\n",
       "\"Italian\"            97\n",
       "\"Slovenian\"         155\n",
       "\"European\"          206\n",
       "Length: 52, dtype: int64"
      ]
     },
     "execution_count": 19,
     "metadata": {},
     "output_type": "execute_result"
    }
   ],
   "source": [
    "glasovi = restavracije[[\"ime\", \"glasovi\"]]\n",
    "# izločimo glasove\n",
    "\n",
    "podatki = pd.merge(glasovi, tipi)\n",
    "# tabela števila glasov za tipe\n",
    "\n",
    "podatki_skrajšano = podatki[[\"glasovi\", \"tip\"]]\n",
    "\n",
    "podatki2 = podatki_skrajšano.groupby(\"tip\")\n",
    "\n",
    "podatki2.size().sort_values()\n",
    "\n"
   ]
  },
  {
   "cell_type": "markdown",
   "metadata": {},
   "source": [
    "#### ODGOVOR : European, Slovenian, Italian.\n"
   ]
  },
  {
   "cell_type": "markdown",
   "metadata": {},
   "source": [
    "### Vprašanje 4 : Najbolj pogost tip restavracij v Ljubljani?"
   ]
  },
  {
   "cell_type": "code",
   "execution_count": 11,
   "metadata": {
    "scrolled": false
   },
   "outputs": [
    {
     "data": {
      "text/html": [
       "<div>\n",
       "<style scoped>\n",
       "    .dataframe tbody tr th:only-of-type {\n",
       "        vertical-align: middle;\n",
       "    }\n",
       "\n",
       "    .dataframe tbody tr th {\n",
       "        vertical-align: top;\n",
       "    }\n",
       "\n",
       "    .dataframe thead th {\n",
       "        text-align: right;\n",
       "    }\n",
       "</style>\n",
       "<table border=\"1\" class=\"dataframe\">\n",
       "  <thead>\n",
       "    <tr style=\"text-align: right;\">\n",
       "      <th></th>\n",
       "      <th>ime</th>\n",
       "    </tr>\n",
       "    <tr>\n",
       "      <th>tip</th>\n",
       "      <th></th>\n",
       "    </tr>\n",
       "  </thead>\n",
       "  <tbody>\n",
       "    <tr>\n",
       "      <td>\"European\"</td>\n",
       "      <td>190</td>\n",
       "    </tr>\n",
       "    <tr>\n",
       "      <td>\"Slovenian\"</td>\n",
       "      <td>98</td>\n",
       "    </tr>\n",
       "    <tr>\n",
       "      <td>\"Italian\"</td>\n",
       "      <td>83</td>\n",
       "    </tr>\n",
       "    <tr>\n",
       "      <td>\"Pizza\"</td>\n",
       "      <td>75</td>\n",
       "    </tr>\n",
       "    <tr>\n",
       "      <td>\"Bar\"</td>\n",
       "      <td>58</td>\n",
       "    </tr>\n",
       "    <tr>\n",
       "      <td>...</td>\n",
       "      <td>...</td>\n",
       "    </tr>\n",
       "    <tr>\n",
       "      <td>\"German\"</td>\n",
       "      <td>1</td>\n",
       "    </tr>\n",
       "    <tr>\n",
       "      <td>\"Hawaiian\"</td>\n",
       "      <td>1</td>\n",
       "    </tr>\n",
       "    <tr>\n",
       "      <td>\"Hungarian\"</td>\n",
       "      <td>1</td>\n",
       "    </tr>\n",
       "    <tr>\n",
       "      <td>\"Persian\"</td>\n",
       "      <td>1</td>\n",
       "    </tr>\n",
       "    <tr>\n",
       "      <td>\"South American\"</td>\n",
       "      <td>1</td>\n",
       "    </tr>\n",
       "  </tbody>\n",
       "</table>\n",
       "<p>52 rows × 1 columns</p>\n",
       "</div>"
      ],
      "text/plain": [
       "                  ime\n",
       "tip                  \n",
       "\"European\"        190\n",
       "\"Slovenian\"        98\n",
       "\"Italian\"          83\n",
       "\"Pizza\"            75\n",
       "\"Bar\"              58\n",
       "...               ...\n",
       "\"German\"            1\n",
       "\"Hawaiian\"          1\n",
       "\"Hungarian\"         1\n",
       "\"Persian\"           1\n",
       "\"South American\"    1\n",
       "\n",
       "[52 rows x 1 columns]"
      ]
     },
     "execution_count": 11,
     "metadata": {},
     "output_type": "execute_result"
    }
   ],
   "source": [
    "vsi_tipi = tipi.groupby(\"tip\").count()\n",
    "# združi in prešteje posamezne tipe restavracij\n",
    "\n",
    "urejeni = vsi_tipi.sort_values([\"ime\"], ascending=[False])\n",
    "urejeni\n",
    "# jih uredi po velikosti"
   ]
  },
  {
   "cell_type": "code",
   "execution_count": 12,
   "metadata": {},
   "outputs": [
    {
     "data": {
      "text/plain": [
       "<matplotlib.axes._subplots.AxesSubplot at 0x1e896c42e80>"
      ]
     },
     "execution_count": 12,
     "metadata": {},
     "output_type": "execute_result"
    },
    {
     "data": {
      "image/png": "[encoded data removed]",
      "text/plain": [
       "<Figure size 432x288 with 1 Axes>"
      ]
     },
     "metadata": {
      "needs_background": "light"
     },
     "output_type": "display_data"
    }
   ],
   "source": [
    "urejeni.plot.bar()"
   ]
  },
  {
   "cell_type": "markdown",
   "metadata": {},
   "source": [
    "#### ODGOVOR : European, Slovenian, Italian."
   ]
  }
 ],
 "metadata": {
  "kernelspec": {
   "display_name": "Python 3",
   "language": "python",
   "name": "python3"
  },
  "language_info": {
   "codemirror_mode": {
    "name": "ipython",
    "version": 3
   },
   "file_extension": ".py",
   "mimetype": "text/x-python",
   "name": "python",
   "nbconvert_exporter": "python",
   "pygments_lexer": "ipython3",
   "version": "3.7.2"
  }
 },
 "nbformat": 4,
 "nbformat_minor": 2
}
